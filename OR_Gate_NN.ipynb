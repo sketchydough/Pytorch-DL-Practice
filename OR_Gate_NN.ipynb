{
  "nbformat": 4,
  "nbformat_minor": 0,
  "metadata": {
    "colab": {
      "provenance": [],
      "authorship_tag": "ABX9TyP50gLBjB9sDlrch08fenim",
      "include_colab_link": true
    },
    "kernelspec": {
      "name": "python3",
      "display_name": "Python 3"
    },
    "language_info": {
      "name": "python"
    }
  },
  "cells": [
    {
      "cell_type": "markdown",
      "metadata": {
        "id": "view-in-github",
        "colab_type": "text"
      },
      "source": [
        "<a href=\"https://colab.research.google.com/github/sketchydough/Pytorch-DL-Practice/blob/main/OR_Gate_NN.ipynb\" target=\"_parent\"><img src=\"https://colab.research.google.com/assets/colab-badge.svg\" alt=\"Open In Colab\"/></a>"
      ]
    },
    {
      "cell_type": "code",
      "execution_count": 1,
      "metadata": {
        "id": "dGMFTquwvEEZ"
      },
      "outputs": [],
      "source": [
        "#NN that simulates OR gate"
      ]
    },
    {
      "cell_type": "code",
      "source": [
        "import numpy as np\n",
        "\n",
        "def sigmoid(x):\n",
        "  return 1/(1+np.exp(-x))\n",
        "\n",
        "def sigmoid_derivative(x):\n",
        "  return x * (1-x)"
      ],
      "metadata": {
        "id": "ZsrHoY7VxRq6"
      },
      "execution_count": 2,
      "outputs": []
    },
    {
      "cell_type": "code",
      "source": [
        "X=np.array([[0,0],[0,1],[1,0],[1,1]])\n",
        "y=np.array([[0],[1],[1],[1]])"
      ],
      "metadata": {
        "id": "WcJTlAo4xg-R"
      },
      "execution_count": 3,
      "outputs": []
    },
    {
      "cell_type": "code",
      "source": [
        "np.random.seed(1)\n",
        "\n",
        "weights=np.random.rand(2,1)\n",
        "bias=np.random.rand(1)\n",
        "\n",
        "learning_rate=0.1"
      ],
      "metadata": {
        "id": "qt4izYUlxtOz"
      },
      "execution_count": 4,
      "outputs": []
    },
    {
      "cell_type": "code",
      "source": [
        "for epoch in range(10000):\n",
        "  #forward pass\n",
        "  linear_output=np.dot(X,weights)+bias\n",
        "  predicted_output=sigmoid(linear_output)\n",
        "  #calculating error\n",
        "  error=y-predicted_output\n",
        "  #backwardpropagation\n",
        "  d_predicted_output=error * sigmoid_derivative(predicted_output)\n",
        "  weights += np.dot(X.T,d_predicted_output) * learning_rate\n",
        "  bias += np.sum(d_predicted_output) * learning_rate\n",
        "  #printing error every 1000 itrs\n",
        "  if epoch % 1000==0:\n",
        "    print(f'epoch {epoch}- error:{np.mean(np.abs(error))}')"
      ],
      "metadata": {
        "colab": {
          "base_uri": "https://localhost:8080/"
        },
        "id": "5TlcbBQGyDGb",
        "outputId": "9976c1dd-e56c-42d5-9dc7-6eeba5cdb0b4"
      },
      "execution_count": 5,
      "outputs": [
        {
          "output_type": "stream",
          "name": "stdout",
          "text": [
            "epoch 0- error:0.3668284967341482\n",
            "epoch 1000- error:0.11077565424085344\n",
            "epoch 2000- error:0.07548218405885959\n",
            "epoch 3000- error:0.060085346524317726\n",
            "epoch 4000- error:0.051140140385052685\n",
            "epoch 5000- error:0.04516575342060272\n",
            "epoch 6000- error:0.04083183830000438\n",
            "epoch 7000- error:0.03751125473375041\n",
            "epoch 8000- error:0.03486627824193639\n",
            "epoch 9000- error:0.03269741362659201\n"
          ]
        }
      ]
    },
    {
      "cell_type": "code",
      "source": [
        "# Test the trained model\n",
        "print(\"\\nFinal weights and bias:\")\n",
        "print(\"Weights:\", weights)\n",
        "print(\"Bias:\", bias)\n",
        "\n",
        "print(\"\\nPredictions after training:\")\n",
        "predictions = sigmoid(np.dot(X, weights) + bias)\n",
        "print(predictions.round())"
      ],
      "metadata": {
        "colab": {
          "base_uri": "https://localhost:8080/"
        },
        "id": "s-45Yfb3zLMk",
        "outputId": "3473b1d4-e1a8-418d-92d2-82ae7994a617"
      },
      "execution_count": 6,
      "outputs": [
        {
          "output_type": "stream",
          "name": "stdout",
          "text": [
            "\n",
            "Final weights and bias:\n",
            "Weights: [[6.18442284]\n",
            " [6.18447391]]\n",
            "Bias: [-2.84609939]\n",
            "\n",
            "Predictions after training:\n",
            "[[0.]\n",
            " [1.]\n",
            " [1.]\n",
            " [1.]]\n"
          ]
        }
      ]
    },
    {
      "cell_type": "code",
      "source": [],
      "metadata": {
        "id": "kOnEm7WazPAJ"
      },
      "execution_count": null,
      "outputs": []
    }
  ]
}