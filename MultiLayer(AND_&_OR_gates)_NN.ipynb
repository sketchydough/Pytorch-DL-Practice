{
  "nbformat": 4,
  "nbformat_minor": 0,
  "metadata": {
    "colab": {
      "provenance": [],
      "authorship_tag": "ABX9TyN21w4KNSE8DkACYRukBWZA",
      "include_colab_link": true
    },
    "kernelspec": {
      "name": "python3",
      "display_name": "Python 3"
    },
    "language_info": {
      "name": "python"
    }
  },
  "cells": [
    {
      "cell_type": "markdown",
      "metadata": {
        "id": "view-in-github",
        "colab_type": "text"
      },
      "source": [
        "<a href=\"https://colab.research.google.com/github/sketchydough/Pytorch-DL-Practice/blob/main/MultiLayer(AND_%26_OR_gates)_NN.ipynb\" target=\"_parent\"><img src=\"https://colab.research.google.com/assets/colab-badge.svg\" alt=\"Open In Colab\"/></a>"
      ]
    },
    {
      "cell_type": "code",
      "execution_count": 2,
      "metadata": {
        "colab": {
          "base_uri": "https://localhost:8080/",
          "height": 53
        },
        "id": "_PPwZd2h1lE_",
        "outputId": "440ef548-c6a0-495d-95a2-9b4eb4c1f498"
      },
      "outputs": [
        {
          "output_type": "execute_result",
          "data": {
            "text/plain": [
              "'\\nLOGIC CIRCUIT:\\nA&B->And gate->output C -> C & D->Or gate->Output E(truth table of and and or gate together)\\n'"
            ],
            "application/vnd.google.colaboratory.intrinsic+json": {
              "type": "string"
            }
          },
          "metadata": {},
          "execution_count": 2
        }
      ],
      "source": [
        "#Get the truth table of and & or gate together\n",
        "\"\"\"\n",
        "LOGIC CIRCUIT:\n",
        "A&B->And gate->output C -> C & D->Or gate->Output E(truth table of and and or gate together)\n",
        "\"\"\""
      ]
    },
    {
      "cell_type": "code",
      "source": [
        "\"\"\"\n",
        "Model:\n",
        "-input layer with three neurons for the three inputs(x1,x2,x3)\n",
        "-two-layer NN\n",
        "-hidden layer computes AND(x1,x2)\n",
        "-output layer computes (AND(x1,x2)) OR x3\n",
        "\"\"\""
      ],
      "metadata": {
        "colab": {
          "base_uri": "https://localhost:8080/",
          "height": 71
        },
        "id": "wdVICfeF2HSc",
        "outputId": "3e5a88d9-0cca-406d-d2fb-eacac3e3c7cf"
      },
      "execution_count": 3,
      "outputs": [
        {
          "output_type": "execute_result",
          "data": {
            "text/plain": [
              "'\\nModel:\\n-input layer with three neurons for the three inputs(x1,x2,x3)\\n-two-layer NN\\n-hidden layer computes AND(x1,x2)\\n-output layer computes (AND(x1,x2)) OR x3\\n'"
            ],
            "application/vnd.google.colaboratory.intrinsic+json": {
              "type": "string"
            }
          },
          "metadata": {},
          "execution_count": 3
        }
      ]
    },
    {
      "cell_type": "code",
      "source": [
        "import numpy as np\n",
        "\n",
        "def sigmoid(x):\n",
        "  return 1/(1+np.exp(-x))\n",
        "\n",
        "def sigmoid_derivative(x):\n",
        "  return x*(1-x)"
      ],
      "metadata": {
        "id": "vj3mBfAU2hTV"
      },
      "execution_count": 4,
      "outputs": []
    },
    {
      "cell_type": "code",
      "source": [
        "X=np.array([[0,0,0],[0,0,1],[0,1,0],[0,1,1],[1,0,0],[1,0,1],[1,1,0],[1,1,1]])\n",
        "y=np.array([[0],[1],[0],[1],[0],[1],[1],[1]])"
      ],
      "metadata": {
        "id": "7dvPZOtO3DuK"
      },
      "execution_count": 5,
      "outputs": []
    },
    {
      "cell_type": "code",
      "source": [
        "np.random.seed(1)\n",
        "weights=np.random.uniform(-1,1,(3,1))\n",
        "bias=np.random.rand(1) #bias term\n",
        "\n",
        "#learning rate\n",
        "learning_rate=0.1\n",
        "\n"
      ],
      "metadata": {
        "id": "Gh-8asam3dHG"
      },
      "execution_count": 6,
      "outputs": []
    },
    {
      "cell_type": "code",
      "source": [
        "#Train NN\n",
        "for epoch in range(10000):\n",
        "  #Forward-pass\n",
        "  linear_output=np.dot(X,weights)+bias\n",
        "  predicted_output=sigmoid(linear_output)\n",
        "  #calculate error\n",
        "  error=y-predicted_output\n",
        "  #BackPropagation (Gradient Descent)\n",
        "  d_predicted_output= error * sigmoid_derivative(predicted_output)\n",
        "  weights += np.dot(X.T,d_predicted_output) * learning_rate\n",
        "  bias += np.sum(d_predicted_output) * learning_rate\n",
        "  #print error every 1000 iterations\n",
        "  if epoch % 1000 ==0:\n",
        "    print(f'Epoch {epoch} - Error:{np.mean(np.abs(error))}')\n",
        "\n"
      ],
      "metadata": {
        "colab": {
          "base_uri": "https://localhost:8080/"
        },
        "id": "bopHCG-j3t8Y",
        "outputId": "4ef5fcba-3c7c-4c60-f589-94b90c9f3cc0"
      },
      "execution_count": 7,
      "outputs": [
        {
          "output_type": "stream",
          "name": "stdout",
          "text": [
            "Epoch 0 - Error:0.585661866622303\n",
            "Epoch 1000 - Error:0.12361177689007755\n",
            "Epoch 2000 - Error:0.08723374393294786\n",
            "Epoch 3000 - Error:0.07015865110540097\n",
            "Epoch 4000 - Error:0.05989028998247443\n",
            "Epoch 5000 - Error:0.0529130598801391\n",
            "Epoch 6000 - Error:0.04780497114626679\n",
            "Epoch 7000 - Error:0.043871378666427985\n",
            "Epoch 8000 - Error:0.04072941212120567\n",
            "Epoch 9000 - Error:0.03814931647808972\n"
          ]
        }
      ]
    },
    {
      "cell_type": "code",
      "source": [
        "# Test the trained model\n",
        "print(\"\\nFinal weights and bias:\")\n",
        "print(\"Weights:\", weights)\n",
        "print(\"Bias:\", bias)\n",
        "\n",
        "print(\"\\nPredictions after training:\")\n",
        "predictions = sigmoid(np.dot(X, weights) + bias)\n",
        "print(predictions.round())\n",
        ""
      ],
      "metadata": {
        "colab": {
          "base_uri": "https://localhost:8080/"
        },
        "id": "SuXRs3_V3yZ4",
        "outputId": "21445f94-4fe1-4b6c-ff3e-cb57557d891c"
      },
      "execution_count": 8,
      "outputs": [
        {
          "output_type": "stream",
          "name": "stdout",
          "text": [
            "\n",
            "Final weights and bias:\n",
            "Weights: [[ 4.87946716]\n",
            " [ 4.87946716]\n",
            " [10.32524505]]\n",
            "Bias: [-7.37663338]\n",
            "\n",
            "Predictions after training:\n",
            "[[0.]\n",
            " [1.]\n",
            " [0.]\n",
            " [1.]\n",
            " [0.]\n",
            " [1.]\n",
            " [1.]\n",
            " [1.]]\n"
          ]
        }
      ]
    },
    {
      "cell_type": "code",
      "source": [],
      "metadata": {
        "id": "VnAwtOha32HR"
      },
      "execution_count": null,
      "outputs": []
    }
  ]
}