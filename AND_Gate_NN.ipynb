{
  "nbformat": 4,
  "nbformat_minor": 0,
  "metadata": {
    "colab": {
      "provenance": [],
      "authorship_tag": "ABX9TyMMYe1WbYFPkwdPFweat4U7",
      "include_colab_link": true
    },
    "kernelspec": {
      "name": "python3",
      "display_name": "Python 3"
    },
    "language_info": {
      "name": "python"
    }
  },
  "cells": [
    {
      "cell_type": "markdown",
      "metadata": {
        "id": "view-in-github",
        "colab_type": "text"
      },
      "source": [
        "<a href=\"https://colab.research.google.com/github/sketchydough/Pytorch-DL-Practice/blob/main/AND_Gate_NN.ipynb\" target=\"_parent\"><img src=\"https://colab.research.google.com/assets/colab-badge.svg\" alt=\"Open In Colab\"/></a>"
      ]
    },
    {
      "cell_type": "code",
      "execution_count": 8,
      "metadata": {
        "id": "nKwla4_RqEzW"
      },
      "outputs": [],
      "source": [
        "#Neural Network that simulates the basic AND Gate"
      ]
    },
    {
      "cell_type": "code",
      "source": [
        "\"\"\"\n",
        "Model:\n",
        "-input alyer with two neurons for the two inputs (x1,x2)\n",
        "-initial weights for each input\n",
        "-a bias term for the neuron\n",
        "-no hidden layers\n",
        "-output layer with one output neuron that uses the sigmoid activation function(because it squashes any input between 0 & 1)\n",
        "\"\"\""
      ],
      "metadata": {
        "colab": {
          "base_uri": "https://localhost:8080/",
          "height": 89
        },
        "id": "IHjuNgYJqaG7",
        "outputId": "38f78075-4df6-4b19-a445-58215af630cc"
      },
      "execution_count": 9,
      "outputs": [
        {
          "output_type": "execute_result",
          "data": {
            "text/plain": [
              "'\\nModel:\\n-input alyer with two neurons for the two inputs (x1,x2)\\n-initial weights for each input\\n-a bias term for the neuron\\n-no hidden layers\\n-output layer with one output neuron that uses the sigmoid activation function(because it squashes any input between 0 & 1)\\n'"
            ],
            "application/vnd.google.colaboratory.intrinsic+json": {
              "type": "string"
            }
          },
          "metadata": {},
          "execution_count": 9
        }
      ]
    },
    {
      "cell_type": "code",
      "source": [
        "#implementing AND gate\n",
        "\n",
        "import numpy as np\n",
        "\n",
        "#sigmoid function\n",
        "def sigmoid(x):\n",
        "  return 1/(1+ np.exp(-x))\n",
        "\n",
        "#derivative of the sigmoid function\n",
        "def sigmoid_derivative(x):\n",
        "  return x*(1-x)"
      ],
      "metadata": {
        "id": "EyoKxKeGq_Vn"
      },
      "execution_count": 10,
      "outputs": []
    },
    {
      "cell_type": "code",
      "source": [
        "#input data(AND gate)\n",
        "X=np.array([[0,0],[0,1],[1,0],[1,1]])\n",
        "\n",
        "#output data (AND gate reuslt)\n",
        "y=np.array([[0],[0],[0],[1]])"
      ],
      "metadata": {
        "id": "V7mxHfELrqRX"
      },
      "execution_count": 11,
      "outputs": []
    },
    {
      "cell_type": "code",
      "source": [
        "#initialize the weights and biases randomly\n",
        "\n",
        "np.random.seed(1)\n",
        "\n",
        "weights=np.random.rand(2,1) #weights for two inputs\n",
        "bias=np.random.rand(1) #bias term\n",
        "\n",
        "#learning rate\n",
        "learning_rate=0.1"
      ],
      "metadata": {
        "id": "LNV-5W-HsD5f"
      },
      "execution_count": 12,
      "outputs": []
    },
    {
      "cell_type": "code",
      "source": [
        "#Train NN\n",
        "for epoch in range(10000):\n",
        "  #Forward-pass\n",
        "  linear_output=np.dot(X,weights)+bias\n",
        "  predicted_output=sigmoid(linear_output)\n",
        "  #calculate error\n",
        "  error=y-predicted_output\n",
        "  #BackPropagation (Gradient Descent)\n",
        "  d_predicted_output= error * sigmoid_derivative(predicted_output)\n",
        "  weights += np.dot(X.T,d_predicted_output) * learning_rate\n",
        "  bias += np.sum(d_predicted_output) * learning_rate\n",
        "  #print error every 1000 iterations\n",
        "  if epoch % 1000 ==0:\n",
        "    print(f'Epoch {epoch} - Error:{np.mean(np.abs(error))}')"
      ],
      "metadata": {
        "colab": {
          "base_uri": "https://localhost:8080/"
        },
        "id": "jDwR1uCgsR7i",
        "outputId": "aaa548c0-dd35-4864-d2d1-2da70d282072"
      },
      "execution_count": 14,
      "outputs": [
        {
          "output_type": "stream",
          "name": "stdout",
          "text": [
            "Epoch 0 - Error:0.504579226489442\n",
            "Epoch 1000 - Error:0.1560484490808625\n",
            "Epoch 2000 - Error:0.1084801905611858\n",
            "Epoch 3000 - Error:0.08669758405744317\n",
            "Epoch 4000 - Error:0.0738250031698816\n",
            "Epoch 5000 - Error:0.06516581225975984\n",
            "Epoch 6000 - Error:0.058863951497172246\n",
            "Epoch 7000 - Error:0.0540286765421643\n",
            "Epoch 8000 - Error:0.050175235355674364\n",
            "Epoch 9000 - Error:0.04701539184471423\n"
          ]
        }
      ]
    },
    {
      "cell_type": "code",
      "source": [
        "# Test the trained model\n",
        "print(\"\\nFinal weights and bias:\")\n",
        "print(\"Weights:\", weights)\n",
        "print(\"Bias:\", bias)\n",
        "\n",
        "print(\"\\nPredictions after training:\")\n",
        "predictions = sigmoid(np.dot(X, weights) + bias)\n",
        "print(predictions.round())"
      ],
      "metadata": {
        "colab": {
          "base_uri": "https://localhost:8080/"
        },
        "id": "e6PQ0U6FtkK6",
        "outputId": "a1d64d23-de4d-4c94-c26e-31ee612d5f0c"
      },
      "execution_count": 15,
      "outputs": [
        {
          "output_type": "stream",
          "name": "stdout",
          "text": [
            "\n",
            "Final weights and bias:\n",
            "Weights: [[5.48122175]\n",
            " [5.48122176]]\n",
            "Bias: [-8.31451677]\n",
            "\n",
            "Predictions after training:\n",
            "[[0.]\n",
            " [0.]\n",
            " [0.]\n",
            " [1.]]\n"
          ]
        }
      ]
    },
    {
      "cell_type": "code",
      "source": [],
      "metadata": {
        "id": "ICm0BVgLuGWL"
      },
      "execution_count": null,
      "outputs": []
    }
  ]
}